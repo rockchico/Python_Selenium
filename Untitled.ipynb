{
 "cells": [
  {
   "cell_type": "code",
   "execution_count": null,
   "metadata": {},
   "outputs": [],
   "source": [
    "import unittest\n",
    "\n",
    "from selenium import webdriver\n",
    "from xvfbwrapper import Xvfb\n",
    "\n",
    "\n",
    "class TestPages(unittest.TestCase):\n",
    "\n",
    "    def setUp(self):\n",
    "        self.xvfb = Xvfb(width=1280, height=720)\n",
    "        self.addCleanup(self.xvfb.stop)\n",
    "        self.xvfb.start()\n",
    "        self.browser = webdriver.Firefox()\n",
    "        self.addCleanup(self.browser.quit)\n",
    "\n",
    "    def testUbuntuHomepage(self):\n",
    "        self.browser.get('http://www.ubuntu.com')\n",
    "        self.assertIn('Ubuntu', self.browser.title)\n",
    "\n",
    "    def testGoogleHomepage(self):\n",
    "        self.browser.get('http://www.google.com')\n",
    "        self.assertIn('Google', self.browser.title)\n",
    "\n",
    "\n",
    "if __name__ == '__main__':\n",
    "    unittest.main()"
   ]
  }
 ],
 "metadata": {
  "kernelspec": {
   "display_name": "Python 3",
   "language": "python",
   "name": "python3"
  },
  "language_info": {
   "codemirror_mode": {
    "name": "ipython",
    "version": 3
   },
   "file_extension": ".py",
   "mimetype": "text/x-python",
   "name": "python",
   "nbconvert_exporter": "python",
   "pygments_lexer": "ipython3",
   "version": "3.7.1"
  }
 },
 "nbformat": 4,
 "nbformat_minor": 2
}
