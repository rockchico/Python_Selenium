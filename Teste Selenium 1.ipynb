{
 "cells": [
  {
   "cell_type": "code",
   "execution_count": 2,
   "metadata": {},
   "outputs": [],
   "source": [
    "from selenium import webdriver\n",
    "from selenium.webdriver.common.keys import Keys\n",
    "\n",
    "driver = webdriver.Chrome()\n",
    "driver.get(\"http://www.python.org\")\n",
    "assert \"Python\" in driver.title\n",
    "elem = driver.find_element_by_name(\"q\")\n",
    "elem.clear()\n",
    "elem.send_keys(\"pycon\")\n",
    "elem.send_keys(Keys.RETURN)\n",
    "assert \"No results found.\" not in driver.page_source\n",
    "driver.close()"
   ]
  },
  {
   "cell_type": "code",
   "execution_count": 6,
   "metadata": {},
   "outputs": [],
   "source": [
    "import unittest\n",
    "from selenium import webdriver\n",
    "from selenium.webdriver.common.keys import Keys\n",
    "\n",
    "class PythonOrgSearch(unittest.TestCase):\n",
    "\n",
    "\n",
    "    def test_search_in_python_org(self):\n",
    "        self.driver = webdriver.Chrome()\n",
    "        driver = self.driver\n",
    "        driver.get(\"http://www.python.org\")\n",
    "        self.assertIn(\"Python\", driver.title)\n",
    "        elem = driver.find_element_by_name(\"q\")\n",
    "        elem.send_keys(\"pycon\")\n",
    "        elem.send_keys(Keys.RETURN)\n",
    "        assert \"No results found.\" not in driver.page_source\n",
    "        self.driver.close()\n",
    "        \n",
    "p = PythonOrgSearch()\n",
    "p.test_search_in_python_org()"
   ]
  },
  {
   "cell_type": "code",
   "execution_count": 39,
   "metadata": {},
   "outputs": [],
   "source": [
    "from selenium import webdriver\n",
    "from selenium.webdriver.common.keys import Keys\n",
    "from selenium.webdriver.support.ui import Select\n",
    "\n",
    "from selenium.webdriver.common.by import By\n",
    "from selenium.webdriver.support.ui import WebDriverWait\n",
    "from selenium.webdriver.support import expected_conditions as EC\n",
    "\n",
    "\n",
    "driver = webdriver.Chrome()\n",
    "driver.get(\"http://www.tjrs.jus.br/site/\")\n",
    "\n",
    "\n",
    "elem = driver.find_element_by_id(\"busca\") # encontra o campo de busca\n",
    "elem.clear() # limpa o input\n",
    "elem.send_keys(\"processo\") # escreve \"processo\" no campo\n",
    "elem.send_keys(Keys.RETURN) # aperta enter\n",
    "\n",
    "elem = driver.find_element_by_link_text(\"Consulta Processual\") # seleciona a aba \"Consulta Processual\"\n",
    "elem.send_keys(Keys.RETURN)\n",
    "\n",
    "\n",
    "# como o formulário é carregado a partir de um iframe,\n",
    "# troca para o iframe onde estão os campos de pesquisa\n",
    "iframe = driver.find_element_by_xpath(\"//iframe[@id='iframeBusca']\")\n",
    "driver.switch_to.frame(iframe)\n",
    "\n",
    "# executa o javascript para abrir a aba de consulta por nome da parte\n",
    "driver.execute_script(\"AlternarAbas('td_parte','div_parte')\")\n",
    "\n",
    "# seleciona \"Estrela\" no select TJ/Comarca\n",
    "driver.find_element_by_xpath(\"//select[@name='id_comarca3']/option[text()='Estrela']\").click()\n",
    "\n",
    "# preenche o nome da parte\n",
    "nome_da_parte = driver.find_element_by_xpath(\"//input[@name='nome_parte']\")\n",
    "nome_da_parte.send_keys(\"Francisco Schwertner\")\n",
    "\n",
    "# clica no botão pesquisar\n",
    "btn_pesquisar = driver.find_element_by_xpath(\"//input[@name='btnPesquisar']\")\n",
    "btn_pesquisar.send_keys(Keys.RETURN)\n",
    "\n",
    "\n",
    "driver.switch_to.default_content()\n",
    "\n",
    "#driver.close()"
   ]
  }
 ],
 "metadata": {
  "kernelspec": {
   "display_name": "Python 3",
   "language": "python",
   "name": "python3"
  },
  "language_info": {
   "codemirror_mode": {
    "name": "ipython",
    "version": 3
   },
   "file_extension": ".py",
   "mimetype": "text/x-python",
   "name": "python",
   "nbconvert_exporter": "python",
   "pygments_lexer": "ipython3",
   "version": "3.7.1"
  }
 },
 "nbformat": 4,
 "nbformat_minor": 2
}
